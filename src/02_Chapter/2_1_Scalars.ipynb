{
    "metadata": {
        "kernelspec": {
            "name": "python3",
            "display_name": "Python 3 (ipykernel)",
            "language": "python"
        },
        "language_info": {
            "name": "python",
            "version": "3.10.3",
            "mimetype": "text/x-python",
            "codemirror_mode": {
                "name": "ipython",
                "version": 3
            },
            "pygments_lexer": "ipython3",
            "nbconvert_exporter": "python",
            "file_extension": ".py"
        },
        "orig_nbformat": 4,
        "vscode": {
            "interpreter": {
                "hash": "7bc860000c6f5302978618b464c7d790b0531a76ec4d34151d0c6c80d711d2c9"
            }
        }
    },
    "nbformat_minor": 2,
    "nbformat": 4,
    "cells": [
        {
            "cell_type": "markdown",
            "source": [
                "Scalars"
            ],
            "metadata": {
                "azdata_cell_guid": "a6413673-6678-4376-9e3b-437c0b116aee"
            }
        },
        {
            "cell_type": "code",
            "source": [
                "aScalar = 12"
            ],
            "metadata": {
                "azdata_cell_guid": "439d16eb-cdb1-4bac-b297-df803ee9fbbb",
                "language": "python"
            },
            "outputs": [],
            "execution_count": null
        },
        {
            "cell_type": "markdown",
            "source": [
                "Plotting a point on graph"
            ],
            "metadata": {
                "language": "python",
                "azdata_cell_guid": "bcd10bcc-e774-4ec6-a3b4-a3929ac3674e"
            },
            "attachments": {}
        },
        {
            "cell_type": "code",
            "source": [
                "import numpy as np\n",
                "import matplotlib.pyplot as plt\n",
                "\n",
                "plt.grid()\n",
                "plt.plot(1,1,'bo')"
            ],
            "metadata": {
                "azdata_cell_guid": "33ed40ce-3c3b-4ff6-9233-8efa1e2d20ba",
                "language": "python"
            },
            "outputs": [
                {
                    "data": {
                        "text/plain": "<Figure size 432x288 with 1 Axes>",
                        "image/png": "[encoded data removed]"
                    },
                    "metadata": {
                        "needs_background": "light"
                    },
                    "output_type": "display_data"
                },
                {
                    "data": {
                        "text/plain": "[<matplotlib.lines.Line2D at 0x1aa834718a0>]"
                    },
                    "metadata": {},
                    "execution_count": 5,
                    "output_type": "execute_result"
                }
            ],
            "execution_count": 5
        }
    ]
}