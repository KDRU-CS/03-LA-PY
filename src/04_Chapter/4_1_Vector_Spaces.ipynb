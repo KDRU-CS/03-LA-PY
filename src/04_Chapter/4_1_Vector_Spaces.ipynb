{
 "cells": [],
 "metadata": {
  "interpreter": {
   "hash": "7bc860000c6f5302978618b464c7d790b0531a76ec4d34151d0c6c80d711d2c9"
  },
  "kernelspec": {
   "display_name": "Python 3.10.3 64-bit",
   "language": "python",
   "name": "python3"
  },
  "language_info": {
   "codemirror_mode": {
    "name": "ipython",
    "version": 3
   },
   "file_extension": ".py",
   "mimetype": "text/x-python",
   "name": "python",
   "nbconvert_exporter": "python",
   "pygments_lexer": "ipython3",
   "version": "3.10.3"
  },
  "orig_nbformat": 4
 },
 "nbformat": 4,
 "nbformat_minor": 2
}
