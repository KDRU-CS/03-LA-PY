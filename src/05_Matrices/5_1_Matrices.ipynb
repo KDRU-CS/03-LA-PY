{
 "cells": [
  {
   "cell_type": "markdown",
   "metadata": {},
   "source": [
    "Transposing a matrix"
   ]
  },
  {
   "cell_type": "code",
   "execution_count": null,
   "metadata": {},
   "outputs": [],
   "source": [
    "import numpy as np\n",
    "\n",
    "m = np.random.randn(2, 5)\n",
    "\n",
    "tm = m.T\n",
    "\n",
    "print(\"Matrix A\")\n",
    "print(m)\n",
    "print(\"Transposed of Matrix A\")\n",
    "print(tm)"
   ]
  },
  {
   "cell_type": "markdown",
   "metadata": {},
   "source": [
    "Generating Special Matrices"
   ]
  },
  {
   "cell_type": "code",
   "execution_count": null,
   "metadata": {},
   "outputs": [],
   "source": [
    "import numpy as np\n",
    "\n",
    "I = np.eye(4)\n",
    "print(\"Identical Matrix\")\n",
    "print(I)\n",
    "O = np.ones((3, 5))\n",
    "print(\"Ones Matrix\")\n",
    "print(O)\n",
    "Z = np.zeros((4, 3))\n",
    "print(Z)"
   ]
  },
  {
   "cell_type": "markdown",
   "metadata": {},
   "source": [
    "Diagonal Matrix"
   ]
  },
  {
   "cell_type": "code",
   "execution_count": null,
   "metadata": {},
   "outputs": [],
   "source": [
    "import numpy as np\n",
    "\n",
    "d = np.diag([3, 4, 2, 4])\n",
    "print(d)"
   ]
  },
  {
   "cell_type": "code",
   "execution_count": null,
   "metadata": {},
   "outputs": [],
   "source": [
    "import numpy as np\n",
    "\n",
    "dn = np.random.randn(4)\n",
    "d = np.diag(dn)\n",
    "print(d)"
   ]
  },
  {
   "cell_type": "markdown",
   "metadata": {},
   "source": [
    "Augmented Matrix"
   ]
  },
  {
   "cell_type": "code",
   "execution_count": null,
   "metadata": {},
   "outputs": [],
   "source": [
    "import numpy as np\n",
    "\n",
    "m1 = np.random.randn(4, 3)\n",
    "m2 = np.random.randn(4, 3)\n",
    "\n",
    "print(\"First Matrix\")\n",
    "print(m1)\n",
    "print(\"Second Matrix\")\n",
    "print(m2)\n",
    "print(\"Concatenation of First and Second matrices\")\n",
    "\n",
    "# axis = 1 will put matrices side by side where axis = 0 will put them on top of each other\n",
    "c = np.concatenate((m1, m2), axis = 1)\n",
    "print(c)"
   ]
  },
  {
   "cell_type": "markdown",
   "metadata": {},
   "source": [
    "Extracting traingular matrices"
   ]
  },
  {
   "cell_type": "code",
   "execution_count": 1,
   "metadata": {},
   "outputs": [
    {
     "name": "stdout",
     "output_type": "stream",
     "text": [
      "Matrix A\n",
      "[[-0.82160996  1.49546289  1.37022913]\n",
      " [ 1.42783936 -0.88025296 -0.33955464]\n",
      " [-1.30773136 -1.06590109  0.31828089]\n",
      " [ 1.11189566  0.329891    0.55542026]]\n",
      "Up triangle matrix of Matrix A\n",
      "[[-0.82160996  1.49546289  1.37022913]\n",
      " [ 0.         -0.88025296 -0.33955464]\n",
      " [ 0.          0.          0.31828089]\n",
      " [ 0.          0.          0.        ]]\n",
      "Down triangle matrix of Matrix A\n",
      "[[-0.82160996  0.          0.        ]\n",
      " [ 1.42783936 -0.88025296  0.        ]\n",
      " [-1.30773136 -1.06590109  0.31828089]\n",
      " [ 1.11189566  0.329891    0.55542026]]\n"
     ]
    }
   ],
   "source": [
    "import numpy as np\n",
    "\n",
    "m = np.random.randn(4, 3)\n",
    "\n",
    "print(\"Matrix A\")\n",
    "print(m)\n",
    "\n",
    "print(\"Up triangle matrix of Matrix A\")\n",
    "u = np.triu(m)\n",
    "print(u)\n",
    "print(\"Down triangle matrix of Matrix A\")\n",
    "d = np.tril(m)\n",
    "print(d)"
   ]
  },
  {
   "cell_type": "markdown",
   "metadata": {},
   "source": [
    "Hankel and Toeplitz Matrices"
   ]
  },
  {
   "cell_type": "code",
   "execution_count": 1,
   "metadata": {},
   "outputs": [
    {
     "name": "stdout",
     "output_type": "stream",
     "text": [
      "Toeplitz of Matrix t\n",
      "[[1 2 3 4]\n",
      " [2 1 2 3]\n",
      " [3 2 1 2]\n",
      " [4 3 2 1]]\n",
      "Hankel of Matrix t\n",
      "[[1 2 3 4]\n",
      " [2 3 4 3]\n",
      " [3 4 3 4]\n",
      " [4 3 4 1]]\n"
     ]
    }
   ],
   "source": [
    "from scipy.linalg import hankel, toeplitz\n",
    "\n",
    "t = [1, 2, 3, 4]\n",
    "\n",
    "print(\"Toeplitz of Matrix t\")\n",
    "T = toeplitz(t)\n",
    "print(T)\n",
    "\n",
    "print(\"Hankel of Matrix t\")\n",
    "H = hankel(t, r = [2, 3, 4, 1])\n",
    "print(H)"
   ]
  },
  {
   "cell_type": "markdown",
   "metadata": {},
   "source": [
    "Shifting matrix"
   ]
  },
  {
   "cell_type": "code",
   "execution_count": null,
   "metadata": {},
   "outputs": [],
   "source": [
    "import numpy as np\n",
    "\n",
    "l = 21\n",
    "\n",
    "I = np.eye(4)\n",
    "print(\"Identity Matrix\")\n",
    "print(I)\n",
    "A = np.random.randn(4, 4)\n",
    "print(\"Matrix A\")\n",
    "print(A)\n",
    "As = A + l*I\n",
    "print(\"Shifted Matrix\")\n",
    "print(As)"
   ]
  },
  {
   "cell_type": "markdown",
   "metadata": {},
   "source": [
    "Trace in a matrix"
   ]
  },
  {
   "cell_type": "code",
   "execution_count": 1,
   "metadata": {},
   "outputs": [
    {
     "name": "stdout",
     "output_type": "stream",
     "text": [
      "Matrix m\n",
      "[[-0.9204417   0.94960836 -0.94478182 -1.15056634]\n",
      " [-0.88109818 -0.30969265  0.47628616  0.15666665]\n",
      " [-0.88165545 -2.56428087 -1.89886967  0.92359117]\n",
      " [-0.30448044 -1.02505092  0.99805466  0.49621782]]\n",
      "Trace of matrix m\n",
      "-2.632786206973717\n"
     ]
    }
   ],
   "source": [
    "import numpy as np\n",
    "\n",
    "m = np.random.randn(4,4)\n",
    "print(\"Matrix m\")\n",
    "print(m)\n",
    "t = np.trace(m)\n",
    "print(\"Trace of matrix m\")\n",
    "print(t)"
   ]
  }
 ],
 "metadata": {
  "interpreter": {
   "hash": "7bc860000c6f5302978618b464c7d790b0531a76ec4d34151d0c6c80d711d2c9"
  },
  "kernelspec": {
   "display_name": "Python 3.10.3 64-bit",
   "language": "python",
   "name": "python3"
  },
  "language_info": {
   "codemirror_mode": {
    "name": "ipython",
    "version": 3
   },
   "file_extension": ".py",
   "mimetype": "text/x-python",
   "name": "python",
   "nbconvert_exporter": "python",
   "pygments_lexer": "ipython3",
   "version": "3.10.3"
  },
  "orig_nbformat": 4
 },
 "nbformat": 4,
 "nbformat_minor": 2
}
