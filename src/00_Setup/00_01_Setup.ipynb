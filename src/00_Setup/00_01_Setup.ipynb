{
    "metadata": {
        "kernelspec": {
            "display_name": "Python 3",
            "language": "python",
            "name": "python3"
        },
        "language_info": {
            "codemirror_mode": {
                "name": "ipython",
                "version": 3
            },
            "file_extension": ".py",
            "mimetype": "text/x-python",
            "name": "python",
            "nbconvert_exporter": "python",
            "pygments_lexer": "ipython3",
            "version": "3.10.3"
        },
        "orig_nbformat": 4,
        "vscode": {
            "interpreter": {
                "hash": "7bc860000c6f5302978618b464c7d790b0531a76ec4d34151d0c6c80d711d2c9"
            }
        }
    },
    "nbformat_minor": 2,
    "nbformat": 4,
    "cells": [
        {
            "cell_type": "markdown",
            "source": [
                "Environment Setup"
            ],
            "metadata": {
                "azdata_cell_guid": "bd382cb1-09a5-4690-941a-0c6a2a89c53e"
            }
        },
        {
            "cell_type": "markdown",
            "source": [
                "1: Installing a module"
            ],
            "metadata": {
                "azdata_cell_guid": "a8af509a-b1f0-4693-b70e-8959f7db65bd"
            }
        },
        {
            "cell_type": "code",
            "source": [
                "!pip3 install matplotlib"
            ],
            "metadata": {
                "azdata_cell_guid": "e65fdefd-855c-4dd3-a990-f7aa80c6cf56",
                "language": "python"
            },
            "outputs": [],
            "execution_count": null
        }
    ]
}