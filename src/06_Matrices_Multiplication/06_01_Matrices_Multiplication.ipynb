{
 "cells": [
  {
   "cell_type": "code",
   "execution_count": 3,
   "metadata": {},
   "outputs": [
    {
     "name": "stdout",
     "output_type": "stream",
     "text": [
      "[[27  7]\n",
      " [ 1  1]\n",
      " [12  4]]\n"
     ]
    }
   ],
   "source": [
    "import numpy as np\n",
    "\n",
    "m1 = np.array([[3, 4], [-1, 2], [0, 4]])\n",
    "m2 = np.array([[5, 1], [3, 1]])\n",
    "\n",
    "mr = m1 @ m2\n",
    "print(mr)"
   ]
  },
  {
   "cell_type": "code",
   "execution_count": 4,
   "metadata": {},
   "outputs": [
    {
     "name": "stdout",
     "output_type": "stream",
     "text": [
      "[[27  7]\n",
      " [ 1  1]\n",
      " [12  4]]\n"
     ]
    },
    {
     "ename": "ValueError",
     "evalue": "matmul: Input operand 1 has a mismatch in its core dimension 0, with gufunc signature (n?,k),(k,m?)->(n?,m?) (size 3 is different from 2)",
     "output_type": "error",
     "traceback": [
      "\u001b[1;31m---------------------------------------------------------------------------\u001b[0m",
      "\u001b[1;31mValueError\u001b[0m                                Traceback (most recent call last)",
      "\u001b[1;32mc:\\Users\\Navee\\source\\University\\0201_LinearAlgebra\\LinearAlgebraInPython\\06_Matrices_Multiplication\\06_01_Matrices_Multiplication.ipynb Cell 2'\u001b[0m in \u001b[0;36m<cell line: 8>\u001b[1;34m()\u001b[0m\n\u001b[0;32m      <a href='vscode-notebook-cell:/c%3A/Users/Navee/source/University/0201_LinearAlgebra/LinearAlgebraInPython/06_Matrices_Multiplication/06_01_Matrices_Multiplication.ipynb#ch0000001?line=5'>6</a>\u001b[0m mr1 \u001b[39m=\u001b[39m m1 \u001b[39m@\u001b[39m m2\n\u001b[0;32m      <a href='vscode-notebook-cell:/c%3A/Users/Navee/source/University/0201_LinearAlgebra/LinearAlgebraInPython/06_Matrices_Multiplication/06_01_Matrices_Multiplication.ipynb#ch0000001?line=6'>7</a>\u001b[0m \u001b[39mprint\u001b[39m(mr1)\n\u001b[1;32m----> <a href='vscode-notebook-cell:/c%3A/Users/Navee/source/University/0201_LinearAlgebra/LinearAlgebraInPython/06_Matrices_Multiplication/06_01_Matrices_Multiplication.ipynb#ch0000001?line=7'>8</a>\u001b[0m mr2 \u001b[39m=\u001b[39m m2 \u001b[39m@\u001b[39;49m m1\n\u001b[0;32m      <a href='vscode-notebook-cell:/c%3A/Users/Navee/source/University/0201_LinearAlgebra/LinearAlgebraInPython/06_Matrices_Multiplication/06_01_Matrices_Multiplication.ipynb#ch0000001?line=8'>9</a>\u001b[0m \u001b[39mprint\u001b[39m(mr2)\n",
      "\u001b[1;31mValueError\u001b[0m: matmul: Input operand 1 has a mismatch in its core dimension 0, with gufunc signature (n?,k),(k,m?)->(n?,m?) (size 3 is different from 2)"
     ]
    }
   ],
   "source": [
    "import numpy as np\n",
    "\n",
    "m1 = np.array([[3, 4], [-1, 2], [0, 4]])\n",
    "m2 = np.array([[5, 1], [3, 1]])\n",
    "\n",
    "mr1 = m1 @ m2\n",
    "print(mr1)\n",
    "# Commutative is not valid in matrix and sometime it doesn't generate a matrix\n",
    "# mr2 = m2 @ m1\n",
    "# print(mr2)"
   ]
  }
 ],
 "metadata": {
  "interpreter": {
   "hash": "7bc860000c6f5302978618b464c7d790b0531a76ec4d34151d0c6c80d711d2c9"
  },
  "kernelspec": {
   "display_name": "Python 3.10.3 64-bit",
   "language": "python",
   "name": "python3"
  },
  "language_info": {
   "codemirror_mode": {
    "name": "ipython",
    "version": 3
   },
   "file_extension": ".py",
   "mimetype": "text/x-python",
   "name": "python",
   "nbconvert_exporter": "python",
   "pygments_lexer": "ipython3",
   "version": "3.10.3"
  },
  "orig_nbformat": 4
 },
 "nbformat": 4,
 "nbformat_minor": 2
}
