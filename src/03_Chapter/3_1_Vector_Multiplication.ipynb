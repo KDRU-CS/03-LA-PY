{
    "metadata": {
        "kernelspec": {
            "name": "SQL",
            "display_name": "SQL",
            "language": "sql"
        },
        "language_info": {
            "name": "sql",
            "version": ""
        },
        "interpreter": {
            "hash": "7bc860000c6f5302978618b464c7d790b0531a76ec4d34151d0c6c80d711d2c9"
        },
        "orig_nbformat": 4
    },
    "nbformat_minor": 2,
    "nbformat": 4,
    "cells": [
        {
            "cell_type": "markdown",
            "source": [
                "Dot Product of two vectors"
            ],
            "metadata": {
                "azdata_cell_guid": "27a4249e-04c5-4703-991b-d13939815d46"
            }
        },
        {
            "cell_type": "code",
            "source": [
                "import numpy as np\n",
                "\n",
                "v1 = np.array([1, 2, 3, 4])\n",
                "v2 = np.array([3, 4, 2, 3])\n",
                "vr = np.dot(v1, v2)\n",
                "print(vr)"
            ],
            "metadata": {
                "azdata_cell_guid": "bbdb6538-d54f-481d-94da-e3d6939878ed",
                "language": "sql"
            },
            "outputs": [
                {
                    "output_type": "stream",
                    "name": "stdout",
                    "text": "29\n"
                }
            ],
            "execution_count": 2
        },
        {
            "cell_type": "markdown",
            "source": [
                "Associative Property with a scalar"
            ],
            "metadata": {
                "azdata_cell_guid": "1a5fa2b9-51c1-4f04-8ec6-7d4fb9bd2ffb"
            }
        },
        {
            "cell_type": "code",
            "source": [
                "import numpy as np\n",
                "\n",
                "v1 = np.array([1, 2, 3])\n",
                "v2 = np.array([4, 3, 2])\n",
                "s = 10\n",
                "\n",
                "vr1 = np.dot(v1, v2) * s\n",
                "\n",
                "vr2 = np.dot(v1*s, v2*s)\n",
                "print(\"s * ( v1 * v2 )\")\n",
                "print(vr1)\n",
                "print(\"( (s * v1) ( s * v2 ) )\")\n",
                "print(vr2)"
            ],
            "metadata": {
                "azdata_cell_guid": "0375d3ad-584c-40a8-baac-7a03913d2328",
                "language": "sql"
            },
            "outputs": [
                {
                    "output_type": "stream",
                    "name": "stdout",
                    "text": "s * ( v1 * v2 )\n160\n( (s * v1) ( s * v2 ) )\n1600\n"
                }
            ],
            "execution_count": 4
        },
        {
            "cell_type": "markdown",
            "source": [
                "Associative Property between vectors"
            ],
            "metadata": {
                "azdata_cell_guid": "72732fe2-1597-42ad-a0b5-cf28024666ce"
            }
        },
        {
            "cell_type": "code",
            "source": [
                "import numpy as np\n",
                "\n",
                "v1 = np.array([1, 2, 3])\n",
                "v2 = np.array([4, 3, 2])\n",
                "v3 = np.array([3, 2, 3])\n",
                "\n",
                "print(\"v1 (v2 * v3)\")\n",
                "vr1 = np.dot(v1, np.dot(v2, v3))\n",
                "print(vr1)\n",
                "print(\"(v1 * v2) v3\")\n",
                "vr2 = np.dot(np.dot(v1, v2), v3)\n",
                "print(vr2)"
            ],
            "metadata": {
                "azdata_cell_guid": "1799fdef-be1d-4108-bd2c-d48c61b62a1c",
                "language": "sql"
            },
            "outputs": [
                {
                    "output_type": "stream",
                    "name": "stdout",
                    "text": "v1 (v2 * v3)\n[24 48 72]\n(v1 * v2) v3\n[48 32 48]\n"
                }
            ],
            "execution_count": 10
        },
        {
            "cell_type": "markdown",
            "source": [
                "Commutative Property"
            ],
            "metadata": {
                "azdata_cell_guid": "53e1b864-e608-4f50-b8cf-feb753bb70ed"
            }
        },
        {
            "cell_type": "code",
            "source": [
                "import numpy as np\n",
                "\n",
                "v1 = np.array([1, 2, 3])\n",
                "v2 = np.array([4, 3, 2])\n",
                "\n",
                "print(\"(v1 * v2)\")\n",
                "vr1 = np.dot(v1, v2)\n",
                "print(vr1)\n",
                "print(\"(v2 * v1)\")\n",
                "vr2 = np.dot(v2, v1)\n",
                "print(vr2)"
            ],
            "metadata": {
                "azdata_cell_guid": "854e9ecb-89b1-4dc3-9de8-b865d0386edb",
                "language": "sql"
            },
            "outputs": [
                {
                    "output_type": "stream",
                    "name": "stdout",
                    "text": "(v1 * v2)\n16\n(v2 * v1)\n16\n"
                }
            ],
            "execution_count": 11
        },
        {
            "cell_type": "markdown",
            "source": [
                "Distributive Property"
            ],
            "metadata": {
                "azdata_cell_guid": "af74f945-b54a-4e3f-a6e2-2a59f9c95fca"
            }
        },
        {
            "cell_type": "code",
            "source": [
                "import numpy as np\n",
                "\n",
                "v1 = np.array([1, 2, 3])\n",
                "v2 = np.array([4, 3, 2])\n",
                "v3 = np.array([3, 2, 3])\n",
                "\n",
                "print(\"v1 (v2 + v3)\")\n",
                "vr1 = np.dot(v1, (v2 + v3))\n",
                "print(vr1)\n",
                "print(\"(v1 * v2) + (v1 * v3)\")\n",
                "vr2 = np.dot(v1, v2) + np.dot(v1, v3)\n",
                "print(vr2)"
            ],
            "metadata": {
                "azdata_cell_guid": "d5bbd7fe-03f6-4290-8c4e-f216791585c4",
                "language": "sql"
            },
            "outputs": [
                {
                    "output_type": "stream",
                    "name": "stdout",
                    "text": "v1 (v2 + v3)\n32\n(v1 * v2) + (v1 * v3)\n32\n"
                }
            ],
            "execution_count": 14
        },
        {
            "cell_type": "markdown",
            "source": [
                "Linear weighted combinations"
            ],
            "metadata": {
                "azdata_cell_guid": "3813bd1a-f425-43fb-acf8-733b2c06884f"
            }
        },
        {
            "cell_type": "code",
            "source": [
                "import numpy as np\n",
                "l1 = 1\n",
                "l2 = 2\n",
                "l3 = -3\n",
                "v1 = np.array( [ 4 , 5 , 1 ] )\n",
                "v2 = np.array( [ -4 , 0 , -4] )\n",
                "v3 = np.array( [ 1 , 3 , 2 ] )\n",
                "l1 * v1 + l2 * v2 + l3 * v3\n"
            ],
            "metadata": {
                "azdata_cell_guid": "71e437e3-72f6-4279-972d-f67cc14eee73",
                "language": "sql"
            },
            "outputs": [
                {
                    "output_type": "execute_result",
                    "execution_count": 6,
                    "data": {
                        "text/plain": "array([ -7,  -4, -13])"
                    },
                    "metadata": {}
                }
            ],
            "execution_count": 6
        },
        {
            "cell_type": "markdown",
            "source": [
                "Outer Product"
            ],
            "metadata": {
                "azdata_cell_guid": "d6e5ed65-cb06-40e2-9f2a-74162291072a"
            }
        },
        {
            "cell_type": "code",
            "source": [
                "import numpy as np\n",
                "\n",
                "v1 = np.array([2, 3, 4, 5])\n",
                "v2 = np.array([4, 3, 2])\n",
                "op = np.outer(v1, v2)\n",
                "print(op)"
            ],
            "metadata": {
                "azdata_cell_guid": "9cd4587f-e504-4e1d-99ac-653b9e8b5824",
                "language": "sql"
            },
            "outputs": [
                {
                    "output_type": "stream",
                    "name": "stdout",
                    "text": "[[ 8  6  4]\n [12  9  6]\n [16 12  8]\n [20 15 10]]\n"
                }
            ],
            "execution_count": 8
        },
        {
            "cell_type": "markdown",
            "source": [
                "Element wise Outer product (Hadamard Multiplication)"
            ],
            "metadata": {
                "azdata_cell_guid": "393f8ddc-b352-4663-bd7c-5d9d016c07a6"
            }
        },
        {
            "cell_type": "code",
            "source": [
                "import numpy as np\n",
                "\n",
                "v1 = np.array([2, 4, 5, 3])\n",
                "v2 = np.array([4, 3, 2, 1])\n",
                "\n",
                "r = v1 * v2 \n",
                "\n",
                "print(r)"
            ],
            "metadata": {
                "azdata_cell_guid": "701f2d7f-13f2-4cc1-b57f-a2f3f3758749",
                "language": "sql"
            },
            "outputs": [
                {
                    "output_type": "stream",
                    "name": "stdout",
                    "text": "[ 8 12 10  3]\n"
                }
            ],
            "execution_count": 1
        },
        {
            "cell_type": "markdown",
            "source": [
                "Unit vector (finding vector norm)"
            ],
            "metadata": {
                "azdata_cell_guid": "8656749e-5e49-4588-bcff-560ee8fa95bd"
            }
        },
        {
            "cell_type": "code",
            "source": [
                "import numpy as np\n",
                "\n",
                "lv = np.array([2, 5, 4, 7])\n",
                "nv = np.linalg.norm(lv)\n",
                "\n",
                "print(nv)"
            ],
            "metadata": {
                "azdata_cell_guid": "b00742e0-ec79-479d-bbac-93c005112243",
                "language": "sql"
            },
            "outputs": [
                {
                    "output_type": "stream",
                    "name": "stdout",
                    "text": "9.695359714832659\n"
                }
            ],
            "execution_count": 2
        }
    ]
}